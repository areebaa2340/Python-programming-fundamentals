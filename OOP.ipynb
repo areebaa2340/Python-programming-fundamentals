{
  "nbformat": 4,
  "nbformat_minor": 0,
  "metadata": {
    "colab": {
      "provenance": []
    },
    "kernelspec": {
      "name": "python3",
      "display_name": "Python 3"
    },
    "language_info": {
      "name": "python"
    }
  },
  "cells": [
    {
      "cell_type": "markdown",
      "source": [
        "### 26th July"
      ],
      "metadata": {
        "id": "RlELqIa8D2Qm"
      }
    },
    {
      "cell_type": "markdown",
      "source": [
        "# OOP"
      ],
      "metadata": {
        "id": "B2z__9gvVsdp"
      }
    },
    {
      "cell_type": "markdown",
      "source": [
        "Question 1: Implement a Custom Linked List\n",
        "\n",
        "Description: Implement a singly linked list with methods to insert a node at the end, delete a node by value, and find a node by value."
      ],
      "metadata": {
        "id": "U2zZwwkMXFYe"
      }
    },
    {
      "cell_type": "code",
      "source": [
        "class Node:\n",
        "    def __init__(self, value: int):\n",
        "        self.value = value\n",
        "        self.next = None\n",
        "\n",
        "class LinkedList:\n",
        "    def __init__(self):\n",
        "        self.head = None\n",
        "\n",
        "    def insert(self, value: int) -> None:\n",
        "        pass\n",
        "\n",
        "    def delete(self, value: int) -> bool:\n",
        "        pass\n",
        "\n",
        "    def find(self, value: int) -> bool:\n",
        "        pass\n"
      ],
      "metadata": {
        "id": "Q_YKJowiUcLs"
      },
      "execution_count": null,
      "outputs": []
    },
    {
      "cell_type": "code",
      "source": [
        "# Test Case 1\n",
        "ll = LinkedList()\n",
        "ll.insert(1)\n",
        "ll.insert(2)\n",
        "ll.insert(3)\n",
        "assert ll.find(2) == True\n",
        "assert ll.find(4) == False\n",
        "assert ll.delete(2) == True\n",
        "assert ll.find(2) == False\n",
        "\n",
        "# Test Case 2\n",
        "ll.insert(4)\n",
        "ll.insert(5)\n",
        "assert ll.find(4) == True\n",
        "assert ll.delete(1) == True\n",
        "assert ll.find(1) == False"
      ],
      "metadata": {
        "id": "NB6ig6Xkb_pE"
      },
      "execution_count": null,
      "outputs": []
    },
    {
      "cell_type": "markdown",
      "source": [
        "Question 2: Implement a Simple LRU Cache\n",
        "\n",
        "Description: Implement a Least Recently Used (LRU) Cache class with methods to put a key-value pair and get a value by key."
      ],
      "metadata": {
        "id": "pi7KwT6ib82X"
      }
    },
    {
      "cell_type": "code",
      "source": [
        "class LRUCache:\n",
        "    def __init__(self, capacity: int):\n",
        "        pass\n",
        "\n",
        "    def put(self, key: int, value: int) -> None:\n",
        "        pass\n",
        "\n",
        "    def get(self, key: int) -> int:\n",
        "        pass\n"
      ],
      "metadata": {
        "id": "QIRtC-iccEsU"
      },
      "execution_count": null,
      "outputs": []
    },
    {
      "cell_type": "code",
      "source": [
        "# Test Case 1\n",
        "cache = LRUCache(2)\n",
        "cache.put(1, 1)\n",
        "cache.put(2, 2)\n",
        "assert cache.get(1) == 1\n",
        "cache.put(3, 3)\n",
        "assert cache.get(2) == -1\n",
        "cache.put(4, 4)\n",
        "assert cache.get(1) == -1\n",
        "assert cache.get(3) == 3\n",
        "assert cache.get(4) == 4\n",
        "\n",
        "# Test Case 2\n",
        "cache = LRUCache(1)\n",
        "cache.put(2, 1)\n",
        "assert cache.get(2) == 1\n",
        "cache.put(3, 2)\n",
        "assert cache.get(2) == -1\n",
        "assert cache.get(3) == 2"
      ],
      "metadata": {
        "id": "8CPzciaycFXY"
      },
      "execution_count": null,
      "outputs": []
    },
    {
      "cell_type": "markdown",
      "source": [
        "Question 3: Implement a Complex Number Class\n",
        "\n",
        "Description: Implement a class ComplexNumber that supports addition, subtraction, multiplication, and division of complex numbers."
      ],
      "metadata": {
        "id": "8-R1gpDNcKSr"
      }
    },
    {
      "cell_type": "code",
      "source": [
        "class ComplexNumber:\n",
        "    def __init__(self, real: float, imag: float):\n",
        "        pass\n",
        "\n",
        "    def __add__(self, other: 'ComplexNumber') -> 'ComplexNumber':\n",
        "        pass\n",
        "\n",
        "    def __sub__(self, other: 'ComplexNumber') -> 'ComplexNumber':\n",
        "        pass\n",
        "\n",
        "    def __mul__(self, other: 'ComplexNumber') -> 'ComplexNumber':\n",
        "        pass\n",
        "\n",
        "    def __truediv__(self, other: 'ComplexNumber') -> 'ComplexNumber':\n",
        "        pass\n",
        "\n",
        "    def __str__(self) -> str:\n",
        "        pass\n"
      ],
      "metadata": {
        "id": "K0mfdbnIcNp7"
      },
      "execution_count": null,
      "outputs": []
    },
    {
      "cell_type": "code",
      "source": [
        "# Test Case 1\n",
        "c1 = ComplexNumber(1, 2)\n",
        "c2 = ComplexNumber(3, 4)\n",
        "assert str(c1 + c2) == \"4.0 + 6.0i\"\n",
        "assert str(c1 - c2) == \"-2.0 - 2.0i\"\n",
        "assert str(c1 * c2) == \"-5.0 + 10.0i\"\n",
        "assert str(c1 / c2) == \"0.44 + 0.08i\"\n",
        "\n",
        "# Test Case 2\n",
        "c3 = ComplexNumber(2, 3)\n",
        "c4 = ComplexNumber(1, -1)\n",
        "assert str(c3 + c4) == \"3.0 + 2.0i\"\n",
        "assert str(c3 - c4) == \"1.0 + 4.0i\"\n",
        "assert str(c3 * c4) == \"5.0 + 1.0i\"\n",
        "assert str(c3 / c4) == \"-0.5 + 2.5i\""
      ],
      "metadata": {
        "id": "U-yAmgkGcQAB"
      },
      "execution_count": null,
      "outputs": []
    },
    {
      "cell_type": "markdown",
      "source": [
        "Question 4: Implement a File System Class\n",
        "\n",
        "Description: Implement a class FileSystem that supports creating a directory, adding a file, and reading a file's content. Assume the directory structure is simplified and doesn't include permissions or actual file data."
      ],
      "metadata": {
        "id": "VyXAwipYcTEc"
      }
    },
    {
      "cell_type": "code",
      "source": [
        "class FileSystem:\n",
        "    def __init__(self):\n",
        "        pass\n",
        "\n",
        "    def create_directory(self, path: str) -> bool:\n",
        "        pass\n",
        "\n",
        "    def add_file(self, path: str, content: str) -> bool:\n",
        "        pass\n",
        "\n",
        "    def read_file(self, path: str) -> str:\n",
        "        pass\n"
      ],
      "metadata": {
        "id": "jAf2IHVUcVnf"
      },
      "execution_count": null,
      "outputs": []
    },
    {
      "cell_type": "code",
      "source": [
        "# Test Case 1\n",
        "fs = FileSystem()\n",
        "assert fs.create_directory(\"/a/b/c\") == True\n",
        "assert fs.add_file(\"/a/b/c/file1.txt\", \"Hello World\") == True\n",
        "assert fs.read_file(\"/a/b/c/file1.txt\") == \"Hello World\"\n",
        "assert fs.read_file(\"/a/b/c/file2.txt\") == \"\"\n",
        "\n",
        "# Test Case 2\n",
        "assert fs.create_directory(\"/x/y/z\") == True\n",
        "assert fs.add_file(\"/x/y/z/file2.txt\", \"Python Programming\") == True\n",
        "assert fs.read_file(\"/x/y/z/file2.txt\") == \"Python Programming\""
      ],
      "metadata": {
        "id": "-IPzprm7cXfw"
      },
      "execution_count": null,
      "outputs": []
    },
    {
      "cell_type": "markdown",
      "source": [
        "Question 5: Implement a Bank Account Class\n",
        "\n",
        "Description: Implement a BankAccount class that encapsulates the balance of an account. The class should provide methods to deposit, withdraw, and check the balance. Ensure the balance cannot be directly accessed or modified."
      ],
      "metadata": {
        "id": "9gwJ87QgcbMO"
      }
    },
    {
      "cell_type": "code",
      "source": [
        "class BankAccount:\n",
        "    def __init__(self, initial_balance: float):\n",
        "        self.__balance = initial_balance\n",
        "\n",
        "    def deposit(self, amount: float) -> None:\n",
        "        pass\n",
        "\n",
        "    def withdraw(self, amount: float) -> bool:\n",
        "        pass\n",
        "\n",
        "    def get_balance(self) -> float:\n",
        "        pass\n"
      ],
      "metadata": {
        "id": "NplIpOylcsnq"
      },
      "execution_count": null,
      "outputs": []
    },
    {
      "cell_type": "code",
      "source": [
        "# Test Case 1\n",
        "account = BankAccount(1000)\n",
        "account.deposit(500)\n",
        "assert account.get_balance() == 1500\n",
        "assert account.withdraw(200) == True\n",
        "assert account.get_balance() == 1300\n",
        "\n",
        "# Test Case 2\n",
        "account.deposit(300)\n",
        "assert account.get_balance() == 1600\n",
        "assert account.withdraw(2000) == False\n",
        "assert account.get_balance() == 1600"
      ],
      "metadata": {
        "id": "69MGRrhpcuSy"
      },
      "execution_count": null,
      "outputs": []
    },
    {
      "cell_type": "markdown",
      "source": [
        "Question 6: Implement a Shape Class Hierarchy\n",
        "\n",
        "Description: Implement an abstract base class Shape with an abstract method area. Create subclasses Circle and Rectangle that implement the area method. Use polymorphism to calculate the area of different shapes."
      ],
      "metadata": {
        "id": "87gKK8Z1czG9"
      }
    },
    {
      "cell_type": "code",
      "source": [
        "from abc import ABC, abstractmethod\n",
        "import math\n",
        "\n",
        "class Shape(ABC):\n",
        "    @abstractmethod\n",
        "    def area(self) -> float:\n",
        "        pass\n",
        "\n",
        "class Circle(Shape):\n",
        "    def __init__(self, radius: float):\n",
        "        self.radius = radius\n",
        "\n",
        "    def area(self) -> float:\n",
        "        pass\n",
        "\n",
        "class Rectangle(Shape):\n",
        "    def __init__(self, width: float, height: float):\n",
        "        self.width = width\n",
        "        self.height = height\n",
        "\n",
        "    def area(self) -> float:\n",
        "        pass\n"
      ],
      "metadata": {
        "id": "Vvkov9xMcyZB"
      },
      "execution_count": null,
      "outputs": []
    },
    {
      "cell_type": "code",
      "source": [
        "# Test Case 1\n",
        "shapes = [Circle(5), Rectangle(4, 6)]\n",
        "areas = [shape.area() for shape in shapes]\n",
        "assert areas == [math.pi * 25, 24]\n",
        "\n",
        "# Test Case 2\n",
        "shapes = [Circle(3), Rectangle(3, 7)]\n",
        "areas = [shape.area() for shape in shapes]\n",
        "assert areas == [math.pi * 9, 21]"
      ],
      "metadata": {
        "id": "3m5HtN_zc5cD"
      },
      "execution_count": null,
      "outputs": []
    },
    {
      "cell_type": "markdown",
      "source": [
        "Question 7: Implement an Employee Management System\n",
        "\n",
        "Description: Implement an abstract base class Employee with abstract methods calculate_pay and get_details. Create subclasses SalariedEmployee and HourlyEmployee that implement these methods. Use abstraction to manage different types of employees."
      ],
      "metadata": {
        "id": "ndacYRU_c8ki"
      }
    },
    {
      "cell_type": "code",
      "source": [
        "from abc import ABC, abstractmethod\n",
        "\n",
        "class Employee(ABC):\n",
        "    @abstractmethod\n",
        "    def calculate_pay(self) -> float:\n",
        "        pass\n",
        "\n",
        "    @abstractmethod\n",
        "    def get_details(self) -> str:\n",
        "        pass\n",
        "\n",
        "class SalariedEmployee(Employee):\n",
        "    def __init__(self, name: str, annual_salary: float):\n",
        "        self.name = name\n",
        "        self.annual_salary = annual_salary\n",
        "\n",
        "    def calculate_pay(self) -> float:\n",
        "        pass\n",
        "\n",
        "    def get_details(self) -> str:\n",
        "        pass\n",
        "\n",
        "class HourlyEmployee(Employee):\n",
        "    def __init__(self, name: str, hourly_rate: float, hours_worked: float):\n",
        "        self.name = name\n",
        "        self.hourly_rate = hourly_rate\n",
        "        self.hours_worked = hours_worked\n",
        "\n",
        "    def calculate_pay(self) -> float:\n",
        "        pass\n",
        "\n",
        "    def get_details(self) -> str:\n",
        "        pass\n"
      ],
      "metadata": {
        "id": "xOJtCVX2dA2A"
      },
      "execution_count": null,
      "outputs": []
    },
    {
      "cell_type": "code",
      "source": [
        "# Test Case 1\n",
        "salaried_emp = SalariedEmployee(\"John Doe\", 60000)\n",
        "hourly_emp = HourlyEmployee(\"Jane Smith\", 20, 160)\n",
        "\n",
        "employees = [salaried_emp, hourly_emp]\n",
        "payroll = [emp.calculate_pay() for emp in employees]\n",
        "details = [emp.get_details() for emp in employees]\n",
        "\n",
        "assert payroll == [5000, 3200]  # Assuming monthly salary for salaried employee\n",
        "assert details == [\"Name: John Doe, Annual Salary: 60000\", \"Name: Jane Smith, Hourly Rate: 20, Hours Worked: 160\"]\n",
        "\n",
        "# Test Case 2\n",
        "salaried_emp = SalariedEmployee(\"Alice Johnson\", 72000)\n",
        "hourly_emp = HourlyEmployee(\"Bob Brown\", 25, 150)\n",
        "\n",
        "employees = [salaried_emp, hourly_emp]\n",
        "payroll = [emp.calculate_pay() for emp in employees]\n",
        "details = [emp.get_details() for emp in employees]\n",
        "\n",
        "assert payroll == [6000, 3750]  # Assuming monthly salary for salaried employee\n",
        "assert details == [\"Name: Alice Johnson, Annual Salary: 72000\", \"Name: Bob Brown, Hourly Rate: 25, Hours Worked: 150\"]"
      ],
      "metadata": {
        "id": "ydUs7pfzdDSQ"
      },
      "execution_count": null,
      "outputs": []
    },
    {
      "cell_type": "code",
      "source": [],
      "metadata": {
        "id": "6PZDmNgKdF0q"
      },
      "execution_count": null,
      "outputs": []
    }
  ]
}