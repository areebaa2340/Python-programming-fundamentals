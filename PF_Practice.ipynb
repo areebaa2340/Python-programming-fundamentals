{
  "nbformat": 4,
  "nbformat_minor": 0,
  "metadata": {
    "colab": {
      "provenance": []
    },
    "kernelspec": {
      "name": "python3",
      "display_name": "Python 3"
    },
    "language_info": {
      "name": "python"
    }
  },
  "cells": [
    {
      "cell_type": "markdown",
      "source": [
        "24th July"
      ],
      "metadata": {
        "id": "s4n1RntfT1w_"
      }
    },
    {
      "cell_type": "markdown",
      "source": [
        "### Questions generated using ChatGPT"
      ],
      "metadata": {
        "id": "HTGveWhHQU7N"
      }
    },
    {
      "cell_type": "markdown",
      "source": [
        "# 1. Control Structures\n",
        "Problem 1: Find the First Non-Repeating Character\n",
        "\n",
        "Description: Given a string, write a function to find the first non-repeating character in it and return its index. If it doesn't exist, return -1.\n",
        "\n",
        "Function Signature: def first_unique_char(s: str) -> int:"
      ],
      "metadata": {
        "id": "WDbXukkyT35g"
      }
    },
    {
      "cell_type": "code",
      "source": [
        "def first_unique_char(s:str)-> int:\n",
        "  d = {}\n",
        "  for i in s:\n",
        "    if i in d:\n",
        "      d[i] += 1\n",
        "    else:\n",
        "      d[i] = 1\n",
        "\n",
        "  for index, char in enumerate(s): #enumerate gives index and corresponding item\n",
        "    if d[char] == 1: #accesses the value (count) for the key char\n",
        "      return index\n",
        "\n",
        "  return -1"
      ],
      "metadata": {
        "id": "mYsZggpkT9Ua"
      },
      "execution_count": 26,
      "outputs": []
    },
    {
      "cell_type": "code",
      "source": [
        "assert first_unique_char(\"leetcode\") == 0\n",
        "assert first_unique_char(\"loveleetcode\") == 2\n",
        "assert first_unique_char(\"aabb\") == -1"
      ],
      "metadata": {
        "id": "9MRQnillUCNN"
      },
      "execution_count": 27,
      "outputs": []
    },
    {
      "cell_type": "markdown",
      "source": [
        "# 2. Type Casting\n",
        "Problem 2: String to Integer (atoi)\n",
        "\n",
        "Description: Implement the my_atoi function, which converts a string to an integer. The function should handle leading whitespaces, optional plus or minus sign, and invalid input gracefully.\n",
        "\n",
        "Function Signature: def my_atoi(s: str) -> int:"
      ],
      "metadata": {
        "id": "zxRhFSBXUEa9"
      }
    },
    {
      "cell_type": "code",
      "source": [
        "import re\n",
        "def my_atoi(s:str)-> int:\n",
        "  if not s:\n",
        "    return 0  #for empty string\n",
        "\n",
        "  s = s.strip()\n",
        "\n",
        "  i = 0\n",
        "  sign = 1\n",
        "  result = 0\n",
        "\n",
        "  if s[i] == \"-\" or s[i] == \"+\":\n",
        "    sign = -1 if s[i] ==\"-\" else 1\n",
        "    i += 1\n",
        "\n",
        "  while i < len(s) and s[i].isdigit():\n",
        "    digit = int(s[i])\n",
        "\n",
        "    result = result * 10 + digit\n",
        "    i += 1\n",
        "\n",
        "  return sign * result\n"
      ],
      "metadata": {
        "id": "puwZPyGqUIVW"
      },
      "execution_count": 17,
      "outputs": []
    },
    {
      "cell_type": "code",
      "source": [
        "assert my_atoi(\"42\") == 42\n",
        "assert my_atoi(\"   -42\") == -42\n",
        "assert my_atoi(\"4193 with words\") == 4193\n",
        "assert my_atoi(\"words and 987\") == 0"
      ],
      "metadata": {
        "id": "fHRc7NHxUJMC"
      },
      "execution_count": 18,
      "outputs": []
    },
    {
      "cell_type": "markdown",
      "source": [
        "# 3. Exception Handling\n",
        "Problem 3: Safe Division\n",
        "\n",
        "Description: Write a function that performs integer division of two numbers. The function should handle division by zero using exception handling.\n",
        "\n",
        "Function Signature: def safe_divide(a: int, b: int) -> int:"
      ],
      "metadata": {
        "id": "Wg58L9HhUNdi"
      }
    },
    {
      "cell_type": "code",
      "source": [
        "def safe_divide(a:int, b:int) -> int:\n",
        "  try:\n",
        "    div = a//b\n",
        "  except ZeroDivisionError:\n",
        "    return \"Division by zero is not allowed\"\n",
        "  else:\n",
        "    return div"
      ],
      "metadata": {
        "id": "B2waym09UTFM"
      },
      "execution_count": 25,
      "outputs": []
    },
    {
      "cell_type": "code",
      "source": [
        "assert safe_divide(10, 2) == 5\n",
        "assert safe_divide(10, 0) == \"Division by zero is not allowed\"\n",
        "assert safe_divide(-10, -2) == 5"
      ],
      "metadata": {
        "id": "MUtDrsjzUT1W"
      },
      "execution_count": 26,
      "outputs": []
    },
    {
      "cell_type": "markdown",
      "source": [
        "# 4. Functions\n",
        "Problem 4: Implement a Recursive Factorial Function\n",
        "\n",
        "Description: Write a recursive function to compute the factorial of a given non-negative integer.\n",
        "\n",
        "Function Signature: def factorial(n: int) -> int:"
      ],
      "metadata": {
        "id": "OqRts8T3UWcS"
      }
    },
    {
      "cell_type": "code",
      "source": [
        "def factorial(n:int) -> int:\n",
        "  if n == 0:\n",
        "    return 1\n",
        "  else:\n",
        "    return n * (factorial(n-1))"
      ],
      "metadata": {
        "id": "kWsL9ZKbUY9i"
      },
      "execution_count": 27,
      "outputs": []
    },
    {
      "cell_type": "code",
      "source": [
        "assert factorial(5) == 120\n",
        "assert factorial(0) == 1\n",
        "assert factorial(1) == 1"
      ],
      "metadata": {
        "id": "w6MCdGhHUaax"
      },
      "execution_count": 28,
      "outputs": []
    },
    {
      "cell_type": "markdown",
      "source": [
        "# 5. Collections (Arrays)\n",
        "Problem 5: Find All Anagrams in a String\n",
        "\n",
        "Description: Given a string s and a non-empty string p, find all the start indices of p's anagrams in s. The order of output does not matter.\n",
        "\n",
        "Function Signature: def find_anagrams(s: str, p: str) -> List[int]:"
      ],
      "metadata": {
        "id": "LSRNd7K2UcSx"
      }
    },
    {
      "cell_type": "code",
      "source": [
        "from typing import List\n",
        "from collections import Counter\n",
        "\n",
        "def find_anagrams(s: str, p: str) -> List[int]:\n",
        "    len_s, len_p = len(s), len(p)\n",
        "\n",
        "    if len_p > len_s: #if anagram bigger than string\n",
        "        return []\n",
        "\n",
        "    p_count = Counter(p) #occurence of each charcater stored in dict\n",
        "    s_count = Counter(s[:len_p]) #only check till length of p for first window\n",
        "    result = []\n",
        "\n",
        "    if p_count == s_count:\n",
        "        result.append(0)\n",
        "\n",
        "    #slide window if not at initial index\n",
        "    for i in range(len_p, len_s):\n",
        "        start_char = s[i - len_p]\n",
        "        new_char = s[i]\n",
        "        s_count[new_char] += 1\n",
        "        s_count[start_char] -= 1 #remove old char\n",
        "        #if count becomes 0\n",
        "        if s_count[start_char] == 0:\n",
        "            del s_count[start_char]\n",
        "        #compare again\n",
        "        if p_count == s_count:\n",
        "            result.append(i - len_p + 1)\n",
        "\n",
        "    return result"
      ],
      "metadata": {
        "id": "ADRcTV-vUfoO"
      },
      "execution_count": 29,
      "outputs": []
    },
    {
      "cell_type": "code",
      "source": [
        "assert find_anagrams(\"cbaebabacd\", \"abc\") == [0, 6]\n",
        "assert find_anagrams(\"abab\", \"ab\") == [0, 1, 2]"
      ],
      "metadata": {
        "id": "-_h72wukUgVc"
      },
      "execution_count": 30,
      "outputs": []
    },
    {
      "cell_type": "markdown",
      "source": [
        "# 6. Strings\n",
        "Problem 6: Longest Substring Without Repeating Characters\n",
        "\n",
        "Description: Given a string, find the length of the longest substring without repeating characters.\n",
        "\n",
        "Function Signature: def length_of_longest_substring(s: str) -> int:"
      ],
      "metadata": {
        "id": "ks5rCPpOUiQ-"
      }
    },
    {
      "cell_type": "code",
      "source": [
        "def length_of_longest_substring(s: str) -> int:\n",
        "    char_set = set() #so no duplicates\n",
        "    left = 0\n",
        "    max_length = 0  #max without repeating characters\n",
        "\n",
        "    for right in range(len(s)):\n",
        "        while s[right] in char_set:\n",
        "            char_set.remove(s[left])\n",
        "            left += 1\n",
        "        char_set.add(s[right])\n",
        "        print(char_set)\n",
        "        max_length = max(max_length, right - left + 1)\n",
        "\n",
        "    return max_length\n",
        "length_of_longest_substring(\"abcabcbb\")"
      ],
      "metadata": {
        "colab": {
          "base_uri": "https://localhost:8080/"
        },
        "id": "hpzzCD8lUmBt",
        "outputId": "cb3968f0-1316-43f2-d4aa-3c12bdd2bbb1"
      },
      "execution_count": 34,
      "outputs": [
        {
          "output_type": "stream",
          "name": "stdout",
          "text": [
            "{'a'}\n",
            "{'b', 'a'}\n",
            "{'c', 'b', 'a'}\n",
            "{'c', 'b', 'a'}\n",
            "{'c', 'b', 'a'}\n",
            "{'c', 'b', 'a'}\n",
            "{'c', 'b'}\n",
            "{'b'}\n"
          ]
        },
        {
          "output_type": "execute_result",
          "data": {
            "text/plain": [
              "3"
            ]
          },
          "metadata": {},
          "execution_count": 34
        }
      ]
    },
    {
      "cell_type": "code",
      "source": [
        "assert length_of_longest_substring(\"abcabcbb\") == 3\n",
        "assert length_of_longest_substring(\"bbbbb\") == 1\n",
        "assert length_of_longest_substring(\"pwwkew\") == 3"
      ],
      "metadata": {
        "id": "TNSLWljlUmxg"
      },
      "execution_count": 32,
      "outputs": []
    },
    {
      "cell_type": "markdown",
      "source": [
        "# 7. Matrices\n",
        "Given a square matrix mat, return the sum of the matrix diagonals. Only include the sum of all the elements on the primary diagonal and all the elements on the secondary diagonal that are not part of the primary diagonal.\n",
        "\n",
        "A square matrix is a matrix that has the same number of rows and columns.\n",
        "\n",
        "Constraints:\n",
        "\n",
        "    n == mat.length == mat[i].length\n",
        "    1 <= n <= 100\n",
        "    1 <= mat[i][j] <= 100\n",
        "\n",
        "def diagonal_sum(mat: List[List[int]]) -> int:"
      ],
      "metadata": {
        "id": "1Tw53jL2PxFa"
      }
    },
    {
      "cell_type": "code",
      "source": [
        "from typing import List\n",
        "def diagonal_sum(mat:List[List[int]]) -> int:\n",
        "  ssum = 0\n",
        "  l = len(mat)\n",
        "  for i in range(l):\n",
        "    ssum += mat[i][i]\n",
        "    #anti-diagonal\n",
        "    ssum += mat[i][l-i-1]\n",
        "\n",
        "  if l%2 == 1: #if odd minus center element so it isnt counted twice\n",
        "    ssum -= mat[l//2][l//2]\n",
        "  return ssum"
      ],
      "metadata": {
        "id": "PedPTHOXPzGM"
      },
      "execution_count": 51,
      "outputs": []
    },
    {
      "cell_type": "code",
      "source": [
        "print(diagonal_sum(mat = [\n",
        "    [1, 2, 3],\n",
        "    [4, 5, 6],\n",
        "    [7, 8, 9]\n",
        "]))\n",
        "\n",
        "print(diagonal_sum(mat = [\n",
        "    [1, 1, 1, 1],\n",
        "    [1, 1, 1, 1],\n",
        "    [1, 1, 1, 1],\n",
        "    [1, 1, 1, 1]\n",
        "]))\n",
        "\n",
        "print(diagonal_sum(mat = [\n",
        "    [5]\n",
        "]))"
      ],
      "metadata": {
        "colab": {
          "base_uri": "https://localhost:8080/"
        },
        "id": "Vf3VSEBpQIkz",
        "outputId": "45e18c49-39a8-4991-a9e8-d380ed86fd50"
      },
      "execution_count": 52,
      "outputs": [
        {
          "output_type": "stream",
          "name": "stdout",
          "text": [
            "25\n",
            "8\n",
            "5\n"
          ]
        }
      ]
    },
    {
      "cell_type": "code",
      "source": [],
      "metadata": {
        "id": "n9N1DDuqz4b2"
      },
      "execution_count": null,
      "outputs": []
    }
  ]
}