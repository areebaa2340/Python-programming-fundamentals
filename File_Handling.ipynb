{
  "nbformat": 4,
  "nbformat_minor": 0,
  "metadata": {
    "colab": {
      "provenance": []
    },
    "kernelspec": {
      "name": "python3",
      "display_name": "Python 3"
    },
    "language_info": {
      "name": "python"
    }
  },
  "cells": [
    {
      "cell_type": "markdown",
      "source": [
        "### 25th July"
      ],
      "metadata": {
        "id": "RlELqIa8D2Qm"
      }
    },
    {
      "cell_type": "markdown",
      "source": [
        "# File Handling"
      ],
      "metadata": {
        "id": "u2KoKyrfD7XZ"
      }
    },
    {
      "cell_type": "code",
      "source": [
        "from google.colab import drive\n",
        "drive.mount('/content/drive')"
      ],
      "metadata": {
        "colab": {
          "base_uri": "https://localhost:8080/"
        },
        "id": "iHF_d-36Hdxw",
        "outputId": "69189d55-b696-40dd-a448-42bee565879c"
      },
      "execution_count": 2,
      "outputs": [
        {
          "output_type": "stream",
          "name": "stdout",
          "text": [
            "Mounted at /content/drive\n"
          ]
        }
      ]
    },
    {
      "cell_type": "markdown",
      "source": [
        "Question 1: Working of open() Function\n",
        "\n",
        "Description: Write a Python function that reads the content of a text file and returns it as a single string. Ensure the file is closed properly after reading.\n",
        "\n",
        "Function Signature: def read_file(file_path: str) -> str:"
      ],
      "metadata": {
        "id": "CgrY3SL3EJW5"
      }
    },
    {
      "cell_type": "code",
      "execution_count": 3,
      "metadata": {
        "id": "kgtPjB84_nxo"
      },
      "outputs": [],
      "source": [
        "def read_file(file_path:str) -> str:\n",
        "  with open(file_path,'r') as file:\n",
        "    content = file.read()\n",
        "\n",
        "  file.close()\n",
        "  return content"
      ]
    },
    {
      "cell_type": "code",
      "source": [
        "file_path = '/content/drive/MyDrive/Training/sample.txt'\n",
        "\n",
        "#generating a file with this content\n",
        "content = 'Hello, world!\\nThis is a test file.\\n'\n",
        "\n",
        "#open in write mode and save the conten\n",
        "with open(file_path, 'w') as file:\n",
        "    file.write(content)"
      ],
      "metadata": {
        "id": "LLgfJ_UDIbJT"
      },
      "execution_count": 4,
      "outputs": []
    },
    {
      "cell_type": "code",
      "source": [
        "assert read_file('/content/drive/MyDrive/Training/sample.txt') == 'Hello, world!\\nThis is a test file.\\n'"
      ],
      "metadata": {
        "id": "ihWOfAOJE1nN"
      },
      "execution_count": 7,
      "outputs": []
    },
    {
      "cell_type": "markdown",
      "source": [
        "Question 2: Using write() Along with with Function\n",
        "\n",
        "Description: Write a Python function that writes a given string to a file. Use the with statement to ensure that the file is properly closed after writing.\n",
        "\n",
        "Function Signature: def write_to_file(file_path: str, content: str) -> None:"
      ],
      "metadata": {
        "id": "TEES3HOrE2s6"
      }
    },
    {
      "cell_type": "code",
      "source": [
        "def write_to_file(file_path:str,content:str)->None:\n",
        "  with open(file_path, 'w') as file:\n",
        "    file.write(content)"
      ],
      "metadata": {
        "id": "MeStBtpJE8gL"
      },
      "execution_count": 10,
      "outputs": []
    },
    {
      "cell_type": "code",
      "source": [
        "file_path = '/content/drive/MyDrive/Training/output.txt'\n",
        "with open(file_path, 'w') as file:\n",
        "  pass\n",
        "\n",
        "write_to_file('/content/drive/MyDrive/Training/output.txt', 'This is a test.')\n",
        "\n",
        "\n",
        "# Verify the content was written correctly\n",
        "with open(file_path, 'r') as file:\n",
        "    assert file.read() == 'This is a test.'"
      ],
      "metadata": {
        "id": "Jcu16KMqFBSb"
      },
      "execution_count": 11,
      "outputs": []
    },
    {
      "cell_type": "markdown",
      "source": [
        "Temporary Files"
      ],
      "metadata": {
        "id": "lTNoRn00L_rS"
      }
    },
    {
      "cell_type": "code",
      "source": [
        "import tempfile\n",
        "\n",
        "#create temporary file\n",
        "with tempfile.NamedTemporaryFile(delete=False, mode='w+', suffix='.txt') as temp_file: #w+ means read and write\n",
        "    # Write to the temporary file\n",
        "    temp_file.write('This is a temporary file.')\n",
        "\n",
        "    # Get the name of the temporary file\n",
        "    temp_file_name = temp_file.name\n",
        "\n",
        "    # Read from the temporary file\n",
        "    temp_file.seek(0)  #move the cursor to the beginning of the file\n",
        "    content = temp_file.read()\n",
        "    print(content)\n",
        "\n",
        "#temp file is automatically deleted when `delete=True`\n",
        "#else you need to manually delete the file if desired"
      ],
      "metadata": {
        "id": "emzC4Aa-LnUE"
      },
      "execution_count": null,
      "outputs": []
    },
    {
      "cell_type": "markdown",
      "source": [
        "changing content of output.txt using tempfile\n",
        "\n",
        "Temporary File: The temporary file (temp_file) is a separate file created to hold the modified content. Changes made to this file do not affect the original file unless explicitly copied or renamed.\n",
        "\n",
        "Original File: The original file (output.txt) will stay as it was before unless you overwrite it with the new content. (can use shutil.copy() for this."
      ],
      "metadata": {
        "id": "ie2LXUiyStwF"
      }
    },
    {
      "cell_type": "code",
      "source": [
        "import tempfile\n",
        "import os\n",
        "\n",
        "file_path = '/content/drive/MyDrive/Training/output.txt'\n",
        "temp_dir = '/content/drive/MyDrive/Training/'\n",
        "\n",
        "#temporary file\n",
        "with tempfile.NamedTemporaryFile(delete=False, mode='w+', suffix='.txt',dir=temp_dir) as temp_file:\n",
        "    with open(file_path, 'r') as original_file:\n",
        "        content = original_file.read()\n",
        "    print(content)\n",
        "    print(\"-----------------\")\n",
        "    #change original file\n",
        "    modified_content = content + '\\nThis is the modified content.'\n",
        "    print(modified_content)\n",
        "\n",
        "    #write new ontent to the temporary file\n",
        "    temp_file.write(modified_content)\n",
        "\n",
        "    #get name of the temp file\n",
        "    temp_file_name = temp_file.name\n",
        "    print(temp_file_name)\n",
        "\n",
        "# Print paths to verify\n",
        "print(f'Temporary file created at: {temp_file_name}')\n",
        "print(f'Original file remains at: {file_path}')\n",
        "\n",
        "#use os.remove() to manually delete temp files since delete is set to false\n",
        "os.remove(temp_file_name)\n",
        "print(f'Temporary file {temp_file_name} has been deleted.')"
      ],
      "metadata": {
        "colab": {
          "base_uri": "https://localhost:8080/"
        },
        "id": "q7kip_8MStRJ",
        "outputId": "c3e5a5b7-910a-4d6f-8eae-7e8450d482eb"
      },
      "execution_count": 16,
      "outputs": [
        {
          "output_type": "stream",
          "name": "stdout",
          "text": [
            "This is a test.\n",
            "-----------------\n",
            "This is a test.\n",
            "This is the modified content.\n",
            "/content/drive/MyDrive/Training/tmpuw_zt20t.txt\n",
            "Temporary file created at: /content/drive/MyDrive/Training/tmpuw_zt20t.txt\n",
            "Original file remains at: /content/drive/MyDrive/Training/output.txt\n",
            "Temporary file /content/drive/MyDrive/Training/tmpuw_zt20t.txt has been deleted.\n"
          ]
        }
      ]
    }
  ]
}