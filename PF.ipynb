{
  "nbformat": 4,
  "nbformat_minor": 0,
  "metadata": {
    "colab": {
      "provenance": []
    },
    "kernelspec": {
      "name": "python3",
      "display_name": "Python 3"
    },
    "language_info": {
      "name": "python"
    }
  },
  "cells": [
    {
      "cell_type": "markdown",
      "source": [
        "24th July"
      ],
      "metadata": {
        "id": "1eToK1NhKF1N"
      }
    },
    {
      "cell_type": "code",
      "execution_count": 1,
      "metadata": {
        "id": "Kaw_7zZNH7Op"
      },
      "outputs": [],
      "source": [
        "#dynamic typing\n",
        "x = 10\n",
        "x = \"hello\"\n",
        "\n",
        "#static typing\n",
        "def add(a:int, b : int) -> int:\n",
        "  return a + b"
      ]
    },
    {
      "cell_type": "code",
      "source": [
        "#bitwise operators\n",
        "print(5 & 3)\n",
        "print (5 ^ 3) #XOR\n",
        "print (5 << 1) #left shift\n",
        "print(~5) #complement"
      ],
      "metadata": {
        "colab": {
          "base_uri": "https://localhost:8080/"
        },
        "id": "fyKWT11QOgYq",
        "outputId": "d67a2a8d-713d-4385-d655-58397869c135"
      },
      "execution_count": 3,
      "outputs": [
        {
          "output_type": "stream",
          "name": "stdout",
          "text": [
            "1\n",
            "6\n",
            "10\n",
            "-6\n"
          ]
        }
      ]
    },
    {
      "cell_type": "code",
      "source": [
        "#special operator\n",
        "\n",
        "#membership\n",
        "arr = [1,2,3,4,5]\n",
        "print(5 in arr)\n",
        "\n",
        "#identity\n",
        "arr2 = [1,2,1]\n",
        "print(arr is arr2)"
      ],
      "metadata": {
        "colab": {
          "base_uri": "https://localhost:8080/"
        },
        "id": "WsHHqUiGPEXM",
        "outputId": "0d6afef1-455c-4cfe-a6e2-085854d4a6d8"
      },
      "execution_count": 7,
      "outputs": [
        {
          "output_type": "stream",
          "name": "stdout",
          "text": [
            "True\n",
            "False\n"
          ]
        }
      ]
    },
    {
      "cell_type": "code",
      "source": [
        "#type casting\n",
        "\n",
        "#implicit\n",
        "x = 3\n",
        "y = 2.2\n",
        "print(x+y)\n",
        "\n",
        "#explicit\n",
        "print(int(y))"
      ],
      "metadata": {
        "colab": {
          "base_uri": "https://localhost:8080/"
        },
        "id": "0zYoUheEPpaU",
        "outputId": "6292ed44-3b72-4a5d-b781-3ab5d296d224"
      },
      "execution_count": 9,
      "outputs": [
        {
          "output_type": "stream",
          "name": "stdout",
          "text": [
            "5.2\n",
            "2\n"
          ]
        }
      ]
    },
    {
      "cell_type": "code",
      "source": [
        "#exception handling\n",
        "\n",
        "#try-except\n",
        "try:\n",
        "  x = 2/0\n",
        "except ZeroDivisionError:\n",
        "  print(\"cannot divide by 0\")\n",
        "\n",
        "#try-except-else\n",
        "try:\n",
        "  x = 20/10\n",
        "except ZeroDivisionError:\n",
        "  print(\"cannot divide by 0\")\n",
        "else:\n",
        "  print(\"ans = \", x)\n",
        "\n",
        "#try-except-else-finally\n",
        "try:\n",
        "  x = 3/4\n",
        "except ZeroDivisionError:\n",
        "  print(\"cannot divide by zero\")\n",
        "else:\n",
        "  print(\"ans = \", x)\n",
        "finally:\n",
        "  print(\"always executed\")"
      ],
      "metadata": {
        "colab": {
          "base_uri": "https://localhost:8080/"
        },
        "id": "Q1fqwzAFQ3yj",
        "outputId": "add4c1ff-82dc-4d4d-dfad-a6d72b73b330"
      },
      "execution_count": 12,
      "outputs": [
        {
          "output_type": "stream",
          "name": "stdout",
          "text": [
            "cannot divide by 0\n",
            "ans =  2.0\n",
            "ans =  0.75\n",
            "always executed\n"
          ]
        }
      ]
    },
    {
      "cell_type": "code",
      "source": [
        "#Functions\n",
        "\n",
        "# Partial Functions: Create new functions with some arguments fixed\n",
        "from functools import partial\n",
        "\n",
        "def multiply (x, y):\n",
        "  return x * y\n",
        "\n",
        "#new function that multiplies by 2\n",
        "ans = partial(multiply,2)\n",
        "\n",
        "print(ans(5))\n",
        "\n",
        "# Anonymous/Lambda Functions: Define small, unnamed functions using lambda\n",
        "subt = lambda x,y: x-y\n",
        "print(subt(5,2))\n",
        "\n",
        "# Recursive Functions: Functions that call themselves to solve problems\n",
        "def factorial(n):\n",
        "  if n == 0:\n",
        "    return 1\n",
        "  else:\n",
        "    return n * (factorial(n-1))\n",
        "\n",
        "print(factorial(5))\n",
        "\n",
        "# Monkey Patching: Modify or extend existing classes or modules at runtime\n",
        "class MyClass:\n",
        "  def fun(self):\n",
        "    return \"Hello\"\n",
        "\n",
        "obj = MyClass()\n",
        "print(obj.fun())\n",
        "\n",
        "def new_fun(self):\n",
        "  return \"Hi\"\n",
        "\n",
        "MyClass.fun = new_fun\n",
        "\n",
        "print(obj.fun())\n"
      ],
      "metadata": {
        "colab": {
          "base_uri": "https://localhost:8080/"
        },
        "id": "06ORmIoZR1wb",
        "outputId": "e825182d-91e2-436f-a1aa-1ec81c3e698e"
      },
      "execution_count": 16,
      "outputs": [
        {
          "output_type": "stream",
          "name": "stdout",
          "text": [
            "10\n",
            "3\n",
            "120\n",
            "Hello\n",
            "Hi\n"
          ]
        }
      ]
    },
    {
      "cell_type": "markdown",
      "source": [
        "# Collections"
      ],
      "metadata": {
        "id": "24QVjmB_Az9Q"
      }
    },
    {
      "cell_type": "code",
      "source": [
        "#List is a collection which is ordered and changeable. Allows duplicate members.\n",
        "\n",
        "# a. Slicing of a List\n",
        "my_list = [1, 2, 3, 4, 5]\n",
        "slice1 = my_list[1:4]\n",
        "slice2 = my_list[:3]\n",
        "slice3 = my_list[::2]   #extracts every second element: [1, 3, 5]\n",
        "\n",
        "# b. List Comprehension\n",
        "squares = [x**2 for x in range(10)]      #list of squares from 0 to 9\n",
        "even_squares = [x**2 for x in range(10) if x % 2 == 0]  #suares of even numbers\n",
        "\n",
        "# c. Operations on List\n",
        "my_list = [1, 2, 3]\n",
        "my_list.append(4)          #adds 4 to list\n",
        "my_list.insert(1, 1.5)     #add 1.5 after 1\n",
        "popped_element = my_list.pop()  #removes last value and returns it, list updated\n",
        "\n",
        "# d. List Methods\n",
        "my_list = [3, 1, 4, 1, 5]\n",
        "my_list.append(9)\n",
        "my_list.sort()\n",
        "my_list.reverse()\n",
        "count_of_1 = my_list.count(1)  # 2\n"
      ],
      "metadata": {
        "id": "Np5rSGKvUS1_"
      },
      "execution_count": null,
      "outputs": []
    },
    {
      "cell_type": "code",
      "source": [
        "# 2. Tuple is a collection which is ordered and unchangeable. Allows duplicate members.\n",
        "\n",
        "# a. Converting list to a Tuple\n",
        "l = [1,2,3,4]\n",
        "t =  tuple(l)\n",
        "\n",
        "# b. Concatenation of Tuples\n",
        "t1 = (1,2,3)\n",
        "t2 = (3,4,5)\n",
        "a = t1 + t2\n",
        "print(a)\n",
        "\n",
        "# c. Nesting of Tuples. Slicing in Tuples\n",
        "b = (t1,t2)\n",
        "print(b)\n",
        "\n",
        "#d. Slicing of tuples\n",
        "tup = (1,2,3,4,5,6,7,8,9)\n",
        "s1 = tup[1:4] #index 1 till 3\n",
        "print(s1)\n",
        "s2 = tup[:6] #0 till 5\n",
        "print(s2)\n",
        "s3 = tup[::3]#every 3rd element\n",
        "print(s3)"
      ],
      "metadata": {
        "colab": {
          "base_uri": "https://localhost:8080/"
        },
        "id": "cEi9EJnyA5V2",
        "outputId": "28f4e89b-1114-4c8d-d14f-28dd59a2cae1"
      },
      "execution_count": 18,
      "outputs": [
        {
          "output_type": "stream",
          "name": "stdout",
          "text": [
            "(1, 2, 3, 3, 4, 5)\n",
            "((1, 2, 3), (3, 4, 5))\n",
            "(2, 3, 4)\n",
            "(1, 2, 3, 4, 5, 6)\n",
            "(1, 4, 7)\n"
          ]
        }
      ]
    },
    {
      "cell_type": "code",
      "source": [
        "# 3. Set is a collection which is unordered and unindexed. No duplicate members.\n",
        "\n",
        "# a. Frozen sets (immutable cannot be changed after creation)\n",
        "s1 = {1,2,3}\n",
        "s2 = {3,5,1,6,8}\n",
        "\n",
        "# b. Union, Intersection and Difference of Sets\n",
        "union = s1 | s2\n",
        "print(union)\n",
        "\n",
        "inter = s1 & s2\n",
        "print(inter)\n",
        "\n",
        "diff = s1-s2\n",
        "d2 = s2-s1\n",
        "print(diff)\n",
        "print(d2)"
      ],
      "metadata": {
        "colab": {
          "base_uri": "https://localhost:8080/"
        },
        "id": "qt--a0SaEe0T",
        "outputId": "2cb9a9fb-a034-413a-de87-92d7cd038fd4"
      },
      "execution_count": 20,
      "outputs": [
        {
          "output_type": "stream",
          "name": "stdout",
          "text": [
            "{1, 2, 3, 5, 6, 8}\n",
            "{1, 3}\n",
            "{2}\n",
            "{8, 5, 6}\n"
          ]
        }
      ]
    },
    {
      "cell_type": "code",
      "source": [
        "#dictionaries:unordered collection of key-value pairs, where each key is unique\n",
        "dict = {\"alice\":1, \"Bob\":2, \"Sam\":3}\n",
        "\n",
        "# a. Nested Dictionary\n",
        "d = {\n",
        "    \"p1\" : {\"Name\": \"Alice\", \"age\" : 23},\n",
        "    \"p2\" : {\"Name\":\"Bob\", \"age\" : 53}\n",
        "}\n",
        "print(d[\"p2\"][\"age\"])\n",
        "print(\"------------------\")\n",
        "# b. pop() vs popItem()\n",
        "my_dict = {'name': 'Alice', 'age': 30}\n",
        "value = my_dict.pop('age')  #removes and returns the value associated with the key 'age'\n",
        "print(value)                #output: 30\n",
        "print(my_dict)              #output: {'name': 'Alice'}\n",
        "\n",
        "# Using popitem()\n",
        "my_dict = {'name': 'Alice', 'age': 30}\n",
        "key, value = my_dict.popitem()  # Removes and returns the last key-value pair\n",
        "print(key, value)               # Output: ('age', 30)\n",
        "print(my_dict)"
      ],
      "metadata": {
        "colab": {
          "base_uri": "https://localhost:8080/"
        },
        "id": "0Vm2Q3mUHAwP",
        "outputId": "27707327-eb48-4531-eb44-5f60c6935358"
      },
      "execution_count": 24,
      "outputs": [
        {
          "output_type": "stream",
          "name": "stdout",
          "text": [
            "53\n",
            "------------------\n",
            "30\n",
            "{'name': 'Alice'}\n",
            "age 30\n",
            "{'name': 'Alice'}\n"
          ]
        }
      ]
    },
    {
      "cell_type": "code",
      "source": [
        "#Strings\n",
        "\n",
        "# 1. Escape Sequencing in Python\n",
        "print(\"Hello\\nWorld\")\n",
        "print(\"Tab\\tspace\")\n",
        "\n",
        "# 2. Formatting of Strings\n",
        "name = \"Alice\"\n",
        "age = 30\n",
        "print(\"Name: %s, Age: %d\" % (name, age))\n",
        "print(\"Name: {}, Age: {}\".format(name, age))\n",
        "print(\"Name: {0}, Age: {1}\".format(name, age))  #positional arguments\n",
        "print(\"Name: {name}, Age: {age}\".format(name=\"Alice\", age=30))  #named placeholders\n",
        "print(f\"Name: {name}, Age: {age}\")\n",
        "\n",
        "# 3. String Methods\n",
        "print(\"hello\".upper())\n",
        "print(\"HELLO\".lower())\n",
        "print(\"  hello  \".strip())  #remove spaces\n",
        "print(\"hello world\".replace(\"world\", \"Python\"))\n",
        "print(\"hello world\".split())\n",
        "print(\"a,b,c\".split(','))     #['a', 'b', 'c']\n",
        "print(\"hello world\".startswith(\"hello\"))  #True\n",
        "print(\"hello world\".endswith(\"world\"))  # True"
      ],
      "metadata": {
        "colab": {
          "base_uri": "https://localhost:8080/"
        },
        "id": "WY-QbOliJKYF",
        "outputId": "c3e914b9-16b3-42e0-e5a1-818412e4c621"
      },
      "execution_count": 25,
      "outputs": [
        {
          "output_type": "stream",
          "name": "stdout",
          "text": [
            "Hello\n",
            "World\n",
            "Tab\tspace\n",
            "Name: Alice, Age: 30\n",
            "Name: Alice, Age: 30\n",
            "Name: Alice, Age: 30\n",
            "Name: Alice, Age: 30\n",
            "Name: Alice, Age: 30\n",
            "HELLO\n",
            "hello\n",
            "hello\n",
            "hello Python\n",
            "['hello', 'world']\n",
            "['a', 'b', 'c']\n",
            "True\n",
            "True\n"
          ]
        }
      ]
    },
    {
      "cell_type": "code",
      "source": [],
      "metadata": {
        "id": "n5aooWm2RcWh"
      },
      "execution_count": null,
      "outputs": []
    }
  ]
}